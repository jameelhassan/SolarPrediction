{
 "cells": [
  {
   "cell_type": "code",
   "execution_count": 6,
   "metadata": {},
   "outputs": [],
   "source": [
    "import pandas as pd\n",
    "import numpy as np\n",
    "import matplotlib.pyplot as plt\n",
    "from numpy import savetxt\n",
    "from scipy.ndimage.interpolation import shift\n",
    "\n",
    "import tensorflow as tf\n",
    "from tensorflow.keras.models import Sequential\n",
    "from tensorflow.keras.layers import Dense, Flatten, Conv1D, AveragePooling1D, SimpleRNN, LSTM\n"
   ]
  },
  {
   "cell_type": "code",
   "execution_count": 7,
   "metadata": {},
   "outputs": [
    {
     "name": "stdout",
     "output_type": "stream",
     "text": [
      "   irradiance\n",
      "0       0.000\n",
      "1      10.065\n",
      "2      46.785\n",
      "3      97.420\n",
      "4     239.070\n"
     ]
    }
   ],
   "source": [
    "#Loading data from PC- data:full original vector of solar irradiance \n",
    "data = pd.read_csv(\"solar_30min.csv\", names=['irradiance'])\n",
    "print(data.head())"
   ]
  },
  {
   "cell_type": "code",
   "execution_count": 8,
   "metadata": {},
   "outputs": [
    {
     "name": "stdout",
     "output_type": "stream",
     "text": [
      "Shape of data is  (9000, 1)\n"
     ]
    }
   ],
   "source": [
    "data = data.values\n",
    "print(\"Shape of data is \", data.shape)"
   ]
  },
  {
   "cell_type": "code",
   "execution_count": 9,
   "metadata": {},
   "outputs": [],
   "source": [
    "sigma = np.std(data)\n",
    "mu = np.mean(data)\n",
    "datanorm = (data-mu)/sig"
   ]
  },
  {
   "cell_type": "code",
   "execution_count": 12,
   "metadata": {},
   "outputs": [
    {
     "name": "stdout",
     "output_type": "stream",
     "text": [
      "The shape of datamat is  (360, 25)\n"
     ]
    },
    {
     "data": {
      "image/png": "[encoded data removed]",
      "text/plain": [
       "<Figure size 432x288 with 1 Axes>"
      ]
     },
     "metadata": {
      "needs_background": "light"
     },
     "output_type": "display_data"
    }
   ],
   "source": [
    "#Random shuffling to matrix across rows\n",
    "datamat = data.reshape(360,-1)\n",
    "print(\"The shape of datamat is \", datamat.shape)\n",
    "datamat_norm = datanorm.reshape(360,-1)\n",
    "plt.plot(datamat_norm[0])\n",
    "datanorm = datamat_norm.reshape(-1,1)"
   ]
  },
  {
   "cell_type": "code",
   "execution_count": 46,
   "metadata": {},
   "outputs": [],
   "source": [
    "#Function to Split into input ouput sets\n",
    "def split_seq(seq, n_steps):\n",
    "    X, y = list(), list()\n",
    "    for i in range(len(seq)):\n",
    "    \n",
    "        #Find end of seq\n",
    "        end_ix = i+n_steps\n",
    "        #Check if sequence passed\n",
    "        if end_ix>len(seq)-1:\n",
    "            break\n",
    "\n",
    "        #Gather input and ouputs\n",
    "        seq_x, seq_y = seq[i:end_ix], seq[end_ix]\n",
    "        X.append(seq_x)\n",
    "        y.append(seq_y)\n",
    "    return np.array(X), np.array(y)"
   ]
  },
  {
   "cell_type": "code",
   "execution_count": 47,
   "metadata": {},
   "outputs": [],
   "source": [
    "n_steps = 4\n",
    "trainval = 25*256 + 1\n",
    "\n",
    "unk,y_recon = split_seq(datanorm, n_steps)\n",
    "y_recon = y_recon[trainval :]"
   ]
  },
  {
   "cell_type": "code",
   "execution_count": 48,
   "metadata": {},
   "outputs": [
    {
     "data": {
      "text/plain": [
       "[<matplotlib.lines.Line2D at 0x63ed7d890>]"
      ]
     },
     "execution_count": 48,
     "metadata": {},
     "output_type": "execute_result"
    },
    {
     "data": {
      "image/png": "[encoded data removed]",
      "text/plain": [
       "<Figure size 432x288 with 1 Axes>"
      ]
     },
     "metadata": {
      "needs_background": "light"
     },
     "output_type": "display_data"
    }
   ],
   "source": [
    "data_diff = datanorm-np.roll(datanorm,1)\n",
    "plt.plot(data_diff[0:25])"
   ]
  },
  {
   "cell_type": "code",
   "execution_count": 49,
   "metadata": {},
   "outputs": [],
   "source": [
    "#Training, Testing data split\n",
    "trainX_diff = data_diff[0:trainval]\n",
    "testX_diff = data_diff[trainval:]"
   ]
  },
  {
   "cell_type": "code",
   "execution_count": 50,
   "metadata": {},
   "outputs": [],
   "source": [
    "n_steps = 4\n",
    "n_features = 1\n",
    "\n",
    "#Split into inputs, outputs for training data\n",
    "Xdiff_train, Ydiff_train= split_seq(trainX_diff, n_steps)\n",
    "\n",
    "Xdiff_train = Xdiff_train.reshape(Xdiff_train.shape[0],Xdiff_train.shape[1], n_features)\n",
    "\n",
    "#Split into input and outputs for test data\n",
    "Xdiff_test, Ydiff_test = split_seq(testX_diff, n_steps)\n",
    "\n",
    "Xdiff_test = Xdiff_test.reshape(Xdiff_test.shape[0], Xdiff_test.shape[1], n_features)"
   ]
  },
  {
   "cell_type": "code",
   "execution_count": 133,
   "metadata": {},
   "outputs": [
    {
     "name": "stdout",
     "output_type": "stream",
     "text": [
      "Model: \"sequential_14\"\n",
      "_________________________________________________________________\n",
      "Layer (type)                 Output Shape              Param #   \n",
      "=================================================================\n",
      "conv1d_8 (Conv1D)            (None, 2, 64)             256       \n",
      "_________________________________________________________________\n",
      "average_pooling1d_4 (Average (None, 1, 64)             0         \n",
      "_________________________________________________________________\n",
      "flatten_8 (Flatten)          (None, 64)                0         \n",
      "_________________________________________________________________\n",
      "dense_37 (Dense)             (None, 64)                4160      \n",
      "_________________________________________________________________\n",
      "dense_38 (Dense)             (None, 32)                2080      \n",
      "_________________________________________________________________\n",
      "dense_39 (Dense)             (None, 1)                 33        \n",
      "=================================================================\n",
      "Total params: 6,529\n",
      "Trainable params: 6,529\n",
      "Non-trainable params: 0\n",
      "_________________________________________________________________\n"
     ]
    }
   ],
   "source": [
    "#Define Model\n",
    "model = tf.keras.Sequential()\n",
    "model.add(Conv1D(filters=64, kernel_size=3, activation='relu', input_shape=(n_steps,n_features)))\n",
    "model.add(AveragePooling1D(pool_size=2))\n",
    "model.add(Flatten())\n",
    "# model.add(LSTM(32, activation='tanh', input_shape=(n_steps, n_features), dropout=0.1))\n",
    "model.add(Dense(64, activation='relu'))\n",
    "model.add(Dense(32, activation='tanh'))\n",
    "model.add(Dense(1))\n",
    "model.compile(optimizer=tf.keras.optimizers.Adam(0.001), loss='mse')\n",
    "model.summary()"
   ]
  },
  {
   "cell_type": "code",
   "execution_count": 134,
   "metadata": {},
   "outputs": [
    {
     "name": "stdout",
     "output_type": "stream",
     "text": [
      "Train on 5437 samples, validate on 960 samples\n",
      "Epoch 1/30\n",
      "5437/5437 [==============================] - 1s 259us/sample - loss: 0.3133 - val_loss: 0.2804\n",
      "Epoch 2/30\n",
      "5437/5437 [==============================] - 1s 98us/sample - loss: 0.2898 - val_loss: 0.2679\n",
      "Epoch 3/30\n",
      "5437/5437 [==============================] - 1s 97us/sample - loss: 0.2827 - val_loss: 0.2661\n",
      "Epoch 4/30\n",
      "5437/5437 [==============================] - 1s 94us/sample - loss: 0.2790 - val_loss: 0.2656\n",
      "Epoch 5/30\n",
      "5437/5437 [==============================] - 1s 93us/sample - loss: 0.2764 - val_loss: 0.2654\n",
      "Epoch 6/30\n",
      "5437/5437 [==============================] - 1s 93us/sample - loss: 0.2751 - val_loss: 0.2655\n",
      "Epoch 7/30\n",
      "5437/5437 [==============================] - 1s 93us/sample - loss: 0.2734 - val_loss: 0.2653\n",
      "Epoch 8/30\n",
      "5437/5437 [==============================] - 1s 93us/sample - loss: 0.2722 - val_loss: 0.2651\n",
      "Epoch 9/30\n",
      "5437/5437 [==============================] - 1s 93us/sample - loss: 0.2707 - val_loss: 0.2650\n",
      "Epoch 10/30\n",
      "5437/5437 [==============================] - 1s 92us/sample - loss: 0.2698 - val_loss: 0.2649\n",
      "Epoch 11/30\n",
      "5437/5437 [==============================] - 1s 93us/sample - loss: 0.2689 - val_loss: 0.2650\n",
      "Epoch 12/30\n",
      "5437/5437 [==============================] - 1s 92us/sample - loss: 0.2680 - val_loss: 0.2653\n",
      "Epoch 13/30\n",
      "5437/5437 [==============================] - 1s 94us/sample - loss: 0.2674 - val_loss: 0.2656\n",
      "Epoch 14/30\n",
      "5437/5437 [==============================] - 1s 93us/sample - loss: 0.2667 - val_loss: 0.2662\n",
      "Epoch 15/30\n",
      "5437/5437 [==============================] - 0s 92us/sample - loss: 0.2661 - val_loss: 0.2665\n",
      "Epoch 16/30\n",
      "5437/5437 [==============================] - 0s 92us/sample - loss: 0.2655 - val_loss: 0.2669\n",
      "Epoch 17/30\n",
      "5437/5437 [==============================] - 1s 92us/sample - loss: 0.2649 - val_loss: 0.2670\n",
      "Epoch 18/30\n",
      "5437/5437 [==============================] - 1s 93us/sample - loss: 0.2644 - val_loss: 0.2668\n",
      "Epoch 19/30\n",
      "5437/5437 [==============================] - 1s 93us/sample - loss: 0.2638 - val_loss: 0.2675\n",
      "Epoch 20/30\n",
      "5437/5437 [==============================] - 1s 93us/sample - loss: 0.2633 - val_loss: 0.2682\n",
      "Epoch 21/30\n",
      "5437/5437 [==============================] - 1s 94us/sample - loss: 0.2628 - val_loss: 0.2686\n",
      "Epoch 22/30\n",
      "5437/5437 [==============================] - 1s 93us/sample - loss: 0.2621 - val_loss: 0.2691\n",
      "Epoch 23/30\n",
      "5437/5437 [==============================] - 1s 97us/sample - loss: 0.2618 - val_loss: 0.2694\n",
      "Epoch 24/30\n",
      "5437/5437 [==============================] - 1s 98us/sample - loss: 0.2614 - val_loss: 0.2701\n",
      "Epoch 25/30\n",
      "5437/5437 [==============================] - 1s 95us/sample - loss: 0.2607 - val_loss: 0.2702\n",
      "Epoch 26/30\n",
      "5437/5437 [==============================] - 1s 93us/sample - loss: 0.2601 - val_loss: 0.2703\n",
      "Epoch 27/30\n",
      "5437/5437 [==============================] - 1s 93us/sample - loss: 0.2597 - val_loss: 0.2702\n",
      "Epoch 28/30\n",
      "5437/5437 [==============================] - 1s 93us/sample - loss: 0.2592 - val_loss: 0.2702\n",
      "Epoch 29/30\n",
      "5437/5437 [==============================] - 1s 95us/sample - loss: 0.2587 - val_loss: 0.2707\n",
      "Epoch 30/30\n",
      "5437/5437 [==============================] - 1s 95us/sample - loss: 0.2582 - val_loss: 0.2712\n"
     ]
    }
   ],
   "source": [
    "#Fit model to difference transformed model\n",
    "hist = model.fit(Xdiff_train, Ydiff_train, epochs=30, batch_size=64, validation_split=0.15, verbose=1, shuffle=False)"
   ]
  },
  {
   "cell_type": "code",
   "execution_count": 135,
   "metadata": {},
   "outputs": [
    {
     "data": {
      "text/plain": [
       "[<matplotlib.lines.Line2D at 0x63fdef090>]"
      ]
     },
     "execution_count": 135,
     "metadata": {},
     "output_type": "execute_result"
    },
    {
     "data": {
      "image/png": "[encoded data removed]",
      "text/plain": [
       "<Figure size 432x288 with 1 Axes>"
      ]
     },
     "metadata": {
      "needs_background": "light"
     },
     "output_type": "display_data"
    }
   ],
   "source": [
    "plt.plot(hist.history['loss'], label='train')\n",
    "plt.plot(hist.history['val_loss'], label='Cross validation')"
   ]
  },
  {
   "cell_type": "code",
   "execution_count": 136,
   "metadata": {},
   "outputs": [],
   "source": [
    "#Predicting difference transformed data using NN model\n",
    "yhat_difftest = model.predict(Xdiff_test, verbose=0)"
   ]
  },
  {
   "cell_type": "code",
   "execution_count": 137,
   "metadata": {},
   "outputs": [],
   "source": [
    "ypred = (yhat_difftest + y_recon)*sigma +mu\n",
    "yact = (Ydiff_test + y_recon)*sigma +mu"
   ]
  },
  {
   "cell_type": "code",
   "execution_count": 138,
   "metadata": {},
   "outputs": [
    {
     "name": "stdout",
     "output_type": "stream",
     "text": [
      "RMSE is [155.56696978]\n"
     ]
    }
   ],
   "source": [
    "RMSE = np.sqrt(sum((ypred-yact)**2)/len(ypred))\n",
    "print(f\"RMSE is {RMSE}\", )"
   ]
  },
  {
   "cell_type": "code",
   "execution_count": null,
   "metadata": {},
   "outputs": [],
   "source": []
  }
 ],
 "metadata": {
  "kernelspec": {
   "display_name": "Python 3.7 (tensorflow)",
   "language": "python",
   "name": "tensorflow"
  },
  "language_info": {
   "codemirror_mode": {
    "name": "ipython",
    "version": 3
   },
   "file_extension": ".py",
   "mimetype": "text/x-python",
   "name": "python",
   "nbconvert_exporter": "python",
   "pygments_lexer": "ipython3",
   "version": "3.7.7"
  }
 },
 "nbformat": 4,
 "nbformat_minor": 4
}
