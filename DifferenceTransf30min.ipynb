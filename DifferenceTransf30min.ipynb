{
 "cells": [
  {
   "cell_type": "code",
   "execution_count": 1,
   "metadata": {},
   "outputs": [],
   "source": [
    "import pandas as pd\n",
    "import numpy as np\n",
    "import matplotlib.pyplot as plt\n",
    "from numpy import savetxt\n",
    "from scipy.ndimage.interpolation import shift\n",
    "\n",
    "import tensorflow as tf\n",
    "from tensorflow.keras.models import Sequential\n",
    "from tensorflow.keras.layers import Dense, Flatten, Conv1D, AveragePooling1D, SimpleRNN, LSTM\n"
   ]
  },
  {
   "cell_type": "code",
   "execution_count": 2,
   "metadata": {},
   "outputs": [
    {
     "name": "stdout",
     "output_type": "stream",
     "text": [
      "   irradiance\n",
      "0       0.000\n",
      "1      10.065\n",
      "2      46.785\n",
      "3      97.420\n",
      "4     239.070\n"
     ]
    }
   ],
   "source": [
    "#Loading data from PC- data:full original vector of solar irradiance \n",
    "data = pd.read_csv(\"solar_30min.csv\", names=['irradiance'])\n",
    "print(data.head())"
   ]
  },
  {
   "cell_type": "code",
   "execution_count": 3,
   "metadata": {},
   "outputs": [
    {
     "name": "stdout",
     "output_type": "stream",
     "text": [
      "Shape of data is  (9000, 1)\n"
     ]
    }
   ],
   "source": [
    "data = data.values\n",
    "print(\"Shape of data is \", data.shape)"
   ]
  },
  {
   "cell_type": "code",
   "execution_count": 4,
   "metadata": {},
   "outputs": [],
   "source": [
    "sigma = np.std(data)\n",
    "mu = np.mean(data)\n",
    "datanorm = (data-mu)/sigma"
   ]
  },
  {
   "cell_type": "code",
   "execution_count": 5,
   "metadata": {},
   "outputs": [
    {
     "name": "stdout",
     "output_type": "stream",
     "text": [
      "The shape of datamat is  (360, 25)\n"
     ]
    },
    {
     "data": {
      "image/png": "[encoded data removed]",
      "text/plain": [
       "<Figure size 432x288 with 1 Axes>"
      ]
     },
     "metadata": {
      "needs_background": "light"
     },
     "output_type": "display_data"
    }
   ],
   "source": [
    "#Random shuffling to matrix across rows\n",
    "datamat = data.reshape(360,-1)\n",
    "print(\"The shape of datamat is \", datamat.shape)\n",
    "datamat_norm = datanorm.reshape(360,-1)\n",
    "plt.plot(datamat_norm[0])\n",
    "datanorm = datamat_norm.reshape(-1,1)"
   ]
  },
  {
   "cell_type": "code",
   "execution_count": 6,
   "metadata": {},
   "outputs": [],
   "source": [
    "#Function to Split into input ouput sets\n",
    "def split_seq(seq, n_steps):\n",
    "    X, y = list(), list()\n",
    "    for i in range(len(seq)):\n",
    "    \n",
    "        #Find end of seq\n",
    "        end_ix = i+n_steps\n",
    "        #Check if sequence passed\n",
    "        if end_ix>len(seq)-1:\n",
    "            break\n",
    "\n",
    "        #Gather input and ouputs\n",
    "        seq_x, seq_y = seq[i:end_ix], seq[end_ix]\n",
    "        X.append(seq_x)\n",
    "        y.append(seq_y)\n",
    "    return np.array(X), np.array(y)"
   ]
  },
  {
   "cell_type": "code",
   "execution_count": 7,
   "metadata": {},
   "outputs": [],
   "source": [
    "n_steps = 4\n",
    "trainval = 25*256 - 5\n",
    "\n",
    "unk,y_recon = split_seq(datanorm, n_steps)\n",
    "y_recon = y_recon[trainval :-1]"
   ]
  },
  {
   "cell_type": "code",
   "execution_count": 8,
   "metadata": {},
   "outputs": [
    {
     "data": {
      "text/plain": [
       "[<matplotlib.lines.Line2D at 0x643824610>]"
      ]
     },
     "execution_count": 8,
     "metadata": {},
     "output_type": "execute_result"
    },
    {
     "data": {
      "image/png": "[encoded data removed]",
      "text/plain": [
       "<Figure size 432x288 with 1 Axes>"
      ]
     },
     "metadata": {
      "needs_background": "light"
     },
     "output_type": "display_data"
    }
   ],
   "source": [
    "data_diff = datanorm-np.roll(datanorm,1)\n",
    "plt.plot(data_diff[0:25])"
   ]
  },
  {
   "cell_type": "code",
   "execution_count": 9,
   "metadata": {},
   "outputs": [],
   "source": [
    "#Training, Testing data split\n",
    "trainval = 25*256 - 4\n",
    "trainX_diff = data_diff[0:trainval]\n",
    "testX_diff = data_diff[trainval:]"
   ]
  },
  {
   "cell_type": "code",
   "execution_count": 10,
   "metadata": {},
   "outputs": [],
   "source": [
    "n_steps = 4\n",
    "n_features = 1\n",
    "\n",
    "#Split into inputs, outputs for training data\n",
    "Xdiff_train, Ydiff_train= split_seq(trainX_diff, n_steps)\n",
    "\n",
    "Xdiff_train = Xdiff_train.reshape(Xdiff_train.shape[0],Xdiff_train.shape[1], n_features)\n",
    "\n",
    "#Split into input and outputs for test data\n",
    "Xdiff_test, Ydiff_test = split_seq(testX_diff, n_steps)\n",
    "\n",
    "Xdiff_test = Xdiff_test.reshape(Xdiff_test.shape[0], Xdiff_test.shape[1], n_features)"
   ]
  },
  {
   "cell_type": "code",
   "execution_count": 11,
   "metadata": {},
   "outputs": [
    {
     "name": "stdout",
     "output_type": "stream",
     "text": [
      "Model: \"sequential\"\n",
      "_________________________________________________________________\n",
      "Layer (type)                 Output Shape              Param #   \n",
      "=================================================================\n",
      "conv1d (Conv1D)              (None, 2, 64)             256       \n",
      "_________________________________________________________________\n",
      "average_pooling1d (AveragePo (None, 1, 64)             0         \n",
      "_________________________________________________________________\n",
      "flatten (Flatten)            (None, 64)                0         \n",
      "_________________________________________________________________\n",
      "dense (Dense)                (None, 64)                4160      \n",
      "_________________________________________________________________\n",
      "dense_1 (Dense)              (None, 32)                2080      \n",
      "_________________________________________________________________\n",
      "dense_2 (Dense)              (None, 1)                 33        \n",
      "=================================================================\n",
      "Total params: 6,529\n",
      "Trainable params: 6,529\n",
      "Non-trainable params: 0\n",
      "_________________________________________________________________\n"
     ]
    }
   ],
   "source": [
    "#Define Model\n",
    "model = tf.keras.Sequential()\n",
    "model.add(Conv1D(filters=64, kernel_size=3, activation='relu', input_shape=(n_steps,n_features)))\n",
    "model.add(AveragePooling1D(pool_size=2))\n",
    "model.add(Flatten())\n",
    "# model.add(LSTM(32, activation='tanh', input_shape=(n_steps, n_features), dropout=0.1))\n",
    "model.add(Dense(64, activation='relu'))\n",
    "model.add(Dense(32, activation='tanh'))\n",
    "model.add(Dense(1))\n",
    "model.compile(optimizer=tf.keras.optimizers.Adam(0.001), loss='mse')\n",
    "model.summary()"
   ]
  },
  {
   "cell_type": "code",
   "execution_count": 12,
   "metadata": {},
   "outputs": [
    {
     "name": "stdout",
     "output_type": "stream",
     "text": [
      "Train on 5433 samples, validate on 959 samples\n",
      "Epoch 1/30\n",
      "5433/5433 [==============================] - 2s 315us/sample - loss: 0.3028 - val_loss: 0.2405\n",
      "Epoch 2/30\n",
      "5433/5433 [==============================] - 1s 98us/sample - loss: 0.2839 - val_loss: 0.2328\n",
      "Epoch 3/30\n",
      "5433/5433 [==============================] - 1s 95us/sample - loss: 0.2784 - val_loss: 0.2276\n",
      "Epoch 4/30\n",
      "5433/5433 [==============================] - 0s 92us/sample - loss: 0.2749 - val_loss: 0.2251\n",
      "Epoch 5/30\n",
      "5433/5433 [==============================] - 1s 97us/sample - loss: 0.2725 - val_loss: 0.2235\n",
      "Epoch 6/30\n",
      "5433/5433 [==============================] - 1s 96us/sample - loss: 0.2706 - val_loss: 0.2231\n",
      "Epoch 7/30\n",
      "5433/5433 [==============================] - 1s 103us/sample - loss: 0.2688 - val_loss: 0.2220\n",
      "Epoch 8/30\n",
      "5433/5433 [==============================] - 1s 102us/sample - loss: 0.2676 - val_loss: 0.2212\n",
      "Epoch 9/30\n",
      "5433/5433 [==============================] - 1s 100us/sample - loss: 0.2659 - val_loss: 0.2208\n",
      "Epoch 10/30\n",
      "5433/5433 [==============================] - 1s 100us/sample - loss: 0.2650 - val_loss: 0.2209\n",
      "Epoch 11/30\n",
      "5433/5433 [==============================] - 1s 99us/sample - loss: 0.2641 - val_loss: 0.2208\n",
      "Epoch 12/30\n",
      "5433/5433 [==============================] - 1s 95us/sample - loss: 0.2632 - val_loss: 0.2201\n",
      "Epoch 13/30\n",
      "5433/5433 [==============================] - 1s 95us/sample - loss: 0.2624 - val_loss: 0.2203\n",
      "Epoch 14/30\n",
      "5433/5433 [==============================] - 1s 97us/sample - loss: 0.2615 - val_loss: 0.2198\n",
      "Epoch 15/30\n",
      "5433/5433 [==============================] - 1s 99us/sample - loss: 0.2608 - val_loss: 0.2203\n",
      "Epoch 16/30\n",
      "5433/5433 [==============================] - 1s 98us/sample - loss: 0.2601 - val_loss: 0.2198\n",
      "Epoch 17/30\n",
      "5433/5433 [==============================] - 1s 99us/sample - loss: 0.2594 - val_loss: 0.2199\n",
      "Epoch 18/30\n",
      "5433/5433 [==============================] - 1s 99us/sample - loss: 0.2589 - val_loss: 0.2198\n",
      "Epoch 19/30\n",
      "5433/5433 [==============================] - 1s 96us/sample - loss: 0.2581 - val_loss: 0.2200\n",
      "Epoch 20/30\n",
      "5433/5433 [==============================] - 1s 96us/sample - loss: 0.2575 - val_loss: 0.2200\n",
      "Epoch 21/30\n",
      "5433/5433 [==============================] - 1s 99us/sample - loss: 0.2569 - val_loss: 0.2202\n",
      "Epoch 22/30\n",
      "5433/5433 [==============================] - 1s 94us/sample - loss: 0.2565 - val_loss: 0.2199\n",
      "Epoch 23/30\n",
      "5433/5433 [==============================] - 1s 93us/sample - loss: 0.2559 - val_loss: 0.2203\n",
      "Epoch 24/30\n",
      "5433/5433 [==============================] - 1s 95us/sample - loss: 0.2552 - val_loss: 0.2204\n",
      "Epoch 25/30\n",
      "5433/5433 [==============================] - 1s 94us/sample - loss: 0.2550 - val_loss: 0.2202\n",
      "Epoch 26/30\n",
      "5433/5433 [==============================] - 1s 93us/sample - loss: 0.2544 - val_loss: 0.2202\n",
      "Epoch 27/30\n",
      "5433/5433 [==============================] - 1s 93us/sample - loss: 0.2540 - val_loss: 0.2206\n",
      "Epoch 28/30\n",
      "5433/5433 [==============================] - 1s 92us/sample - loss: 0.2534 - val_loss: 0.2205\n",
      "Epoch 29/30\n",
      "5433/5433 [==============================] - 1s 93us/sample - loss: 0.2529 - val_loss: 0.2206\n",
      "Epoch 30/30\n",
      "5433/5433 [==============================] - 1s 93us/sample - loss: 0.2526 - val_loss: 0.2210\n"
     ]
    }
   ],
   "source": [
    "#Fit model to difference transformed model\n",
    "hist = model.fit(Xdiff_train, Ydiff_train, epochs=30, batch_size=64, validation_split=0.15, verbose=1, shuffle=False)"
   ]
  },
  {
   "cell_type": "code",
   "execution_count": 13,
   "metadata": {},
   "outputs": [
    {
     "data": {
      "text/plain": [
       "[<matplotlib.lines.Line2D at 0x648ad8090>]"
      ]
     },
     "execution_count": 13,
     "metadata": {},
     "output_type": "execute_result"
    },
    {
     "data": {
      "image/png": "[encoded data removed]",
      "text/plain": [
       "<Figure size 432x288 with 1 Axes>"
      ]
     },
     "metadata": {
      "needs_background": "light"
     },
     "output_type": "display_data"
    }
   ],
   "source": [
    "plt.plot(hist.history['loss'], label='train')\n",
    "plt.plot(hist.history['val_loss'], label='Cross validation')"
   ]
  },
  {
   "cell_type": "code",
   "execution_count": 14,
   "metadata": {},
   "outputs": [],
   "source": [
    "#Predicting difference transformed data using NN model\n",
    "yhat_difftest = model.predict(Xdiff_test, verbose=0)"
   ]
  },
  {
   "cell_type": "code",
   "execution_count": 15,
   "metadata": {},
   "outputs": [],
   "source": [
    "ypred = (yhat_difftest + y_recon)*sigma +mu\n",
    "yact = (Ydiff_test + y_recon)*sigma +mu"
   ]
  },
  {
   "cell_type": "code",
   "execution_count": 16,
   "metadata": {},
   "outputs": [
    {
     "name": "stdout",
     "output_type": "stream",
     "text": [
      "Shape of Ydiff_test is  (2600, 1)\n",
      "Shape of y_recon is  (2600, 1)\n"
     ]
    }
   ],
   "source": [
    "print(\"Shape of Ydiff_test is \", Ydiff_test.shape)\n",
    "print(\"Shape of y_recon is \", y_recon.shape)"
   ]
  },
  {
   "cell_type": "code",
   "execution_count": 17,
   "metadata": {},
   "outputs": [
    {
     "name": "stdout",
     "output_type": "stream",
     "text": [
      "RMSE is [165.90210225]\n",
      "RMSE of prediction is [0.53789734]\n"
     ]
    }
   ],
   "source": [
    "RMSE = np.sqrt(sum((ypred-yact)**2)/len(ypred))\n",
    "print(\"RMSE is\",RMSE )\n",
    "RMSEpred = np.sqrt(sum((yhat_difftest-Ydiff_test)**2)/len(Ydiff_test))\n",
    "print(\"RMSE of prediction is\", RMSEpred)"
   ]
  },
  {
   "cell_type": "code",
   "execution_count": 18,
   "metadata": {},
   "outputs": [
    {
     "data": {
      "text/plain": [
       "<matplotlib.legend.Legend at 0x648b4da50>"
      ]
     },
     "execution_count": 18,
     "metadata": {},
     "output_type": "execute_result"
    },
    {
     "data": {
      "image/png": "[encoded data removed]",
      "text/plain": [
       "<Figure size 432x288 with 1 Axes>"
      ]
     },
     "metadata": {
      "needs_background": "light"
     },
     "output_type": "display_data"
    }
   ],
   "source": [
    "plt.plot(yact[0:50], label='observed')\n",
    "plt.plot(ypred[0:50], label='prediction')\n",
    "plt.legend(loc='upper right')"
   ]
  },
  {
   "cell_type": "code",
   "execution_count": 19,
   "metadata": {},
   "outputs": [
    {
     "data": {
      "text/html": [
       "<div>\n",
       "<style scoped>\n",
       "    .dataframe tbody tr th:only-of-type {\n",
       "        vertical-align: middle;\n",
       "    }\n",
       "\n",
       "    .dataframe tbody tr th {\n",
       "        vertical-align: top;\n",
       "    }\n",
       "\n",
       "    .dataframe thead th {\n",
       "        text-align: right;\n",
       "    }\n",
       "</style>\n",
       "<table border=\"1\" class=\"dataframe\">\n",
       "  <thead>\n",
       "    <tr style=\"text-align: right;\">\n",
       "      <th></th>\n",
       "      <th>Observed</th>\n",
       "      <th>Predicted</th>\n",
       "    </tr>\n",
       "  </thead>\n",
       "  <tbody>\n",
       "    <tr>\n",
       "      <th>0</th>\n",
       "      <td>0.670</td>\n",
       "      <td>21.516296</td>\n",
       "    </tr>\n",
       "    <tr>\n",
       "      <th>1</th>\n",
       "      <td>20.725</td>\n",
       "      <td>32.779900</td>\n",
       "    </tr>\n",
       "    <tr>\n",
       "      <th>2</th>\n",
       "      <td>103.770</td>\n",
       "      <td>93.443008</td>\n",
       "    </tr>\n",
       "    <tr>\n",
       "      <th>3</th>\n",
       "      <td>385.490</td>\n",
       "      <td>225.464929</td>\n",
       "    </tr>\n",
       "    <tr>\n",
       "      <th>4</th>\n",
       "      <td>478.680</td>\n",
       "      <td>433.735443</td>\n",
       "    </tr>\n",
       "  </tbody>\n",
       "</table>\n",
       "</div>"
      ],
      "text/plain": [
       "   Observed   Predicted\n",
       "0     0.670   21.516296\n",
       "1    20.725   32.779900\n",
       "2   103.770   93.443008\n",
       "3   385.490  225.464929\n",
       "4   478.680  433.735443"
      ]
     },
     "execution_count": 19,
     "metadata": {},
     "output_type": "execute_result"
    }
   ],
   "source": [
    "#Make DataFrame\n",
    "yout = np.hstack((yact, ypred))\n",
    "yout = pd.DataFrame(list(yout), columns=['Observed','Predicted'])\n",
    "yout.head()"
   ]
  },
  {
   "cell_type": "code",
   "execution_count": 20,
   "metadata": {},
   "outputs": [],
   "source": [
    "#Save DataFrame to csv\n",
    "yout.to_csv('CNN_30min.csv', index=False)"
   ]
  },
  {
   "cell_type": "code",
   "execution_count": null,
   "metadata": {},
   "outputs": [],
   "source": []
  }
 ],
 "metadata": {
  "kernelspec": {
   "display_name": "Python 3.7 (tensorflow)",
   "language": "python",
   "name": "tensorflow"
  },
  "language_info": {
   "codemirror_mode": {
    "name": "ipython",
    "version": 3
   },
   "file_extension": ".py",
   "mimetype": "text/x-python",
   "name": "python",
   "nbconvert_exporter": "python",
   "pygments_lexer": "ipython3",
   "version": "3.7.7"
  }
 },
 "nbformat": 4,
 "nbformat_minor": 4
}
