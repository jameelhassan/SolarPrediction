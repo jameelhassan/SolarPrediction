{
 "cells": [
  {
   "cell_type": "code",
   "execution_count": 16,
   "metadata": {},
   "outputs": [],
   "source": [
    "import pandas as pd\n",
    "import numpy as np\n",
    "import matplotlib.pyplot as plt\n",
    "from numpy import savetxt\n",
    "from scipy.ndimage.interpolation import shift\n",
    "\n",
    "import tensorflow as tf\n",
    "from tensorflow.keras.models import Sequential\n",
    "from tensorflow.keras.layers import Dense, Flatten, Conv1D, AveragePooling1D, SimpleRNN, LSTM"
   ]
  },
  {
   "cell_type": "code",
   "execution_count": 17,
   "metadata": {},
   "outputs": [
    {
     "name": "stdout",
     "output_type": "stream",
     "text": [
      "   irradiance\n",
      "0       0.000\n",
      "1      90.475\n",
      "2     183.280\n",
      "3     435.890\n",
      "4     594.660\n"
     ]
    }
   ],
   "source": [
    "#Loading data from PC- data:full original vector of solar irradiance \n",
    "data = pd.read_csv(\"solar_1h.csv\", names=['irradiance'])\n",
    "print(data.head())"
   ]
  },
  {
   "cell_type": "code",
   "execution_count": 18,
   "metadata": {},
   "outputs": [
    {
     "name": "stdout",
     "output_type": "stream",
     "text": [
      "Shape of data is  (4758, 1)\n"
     ]
    }
   ],
   "source": [
    "data = data.values\n",
    "print(\"Shape of data is \", data.shape)"
   ]
  },
  {
   "cell_type": "code",
   "execution_count": 19,
   "metadata": {},
   "outputs": [],
   "source": [
    "sigma = np.std(data)\n",
    "mu = np.mean(data)\n",
    "datanorm = (data-mu)/sigma"
   ]
  },
  {
   "cell_type": "code",
   "execution_count": 20,
   "metadata": {},
   "outputs": [
    {
     "name": "stdout",
     "output_type": "stream",
     "text": [
      "The shape of datamat is  (366, 13)\n"
     ]
    },
    {
     "data": {
      "image/png": "[encoded data removed]",
      "text/plain": [
       "<Figure size 432x288 with 1 Axes>"
      ]
     },
     "metadata": {
      "needs_background": "light"
     },
     "output_type": "display_data"
    }
   ],
   "source": [
    "#Random shuffling to matrix across rows\n",
    "datamat = data.reshape(366,-1)\n",
    "print(\"The shape of datamat is \", datamat.shape)\n",
    "datamat_norm = datanorm.reshape(366,-1)\n",
    "plt.plot(datamat_norm[0])\n",
    "datanorm = datamat_norm.reshape(-1,1)"
   ]
  },
  {
   "cell_type": "code",
   "execution_count": 21,
   "metadata": {},
   "outputs": [],
   "source": [
    "#Function to Split into input ouput sets\n",
    "def split_seq(seq, n_steps):\n",
    "    X, y = list(), list()\n",
    "    for i in range(len(seq)):\n",
    "    \n",
    "        #Find end of seq\n",
    "        end_ix = i+n_steps\n",
    "        #Check if sequence passed\n",
    "        if end_ix>len(seq)-1:\n",
    "            break\n",
    "\n",
    "        #Gather input and ouputs\n",
    "        seq_x, seq_y = seq[i:end_ix], seq[end_ix]\n",
    "        X.append(seq_x)\n",
    "        y.append(seq_y)\n",
    "    return np.array(X), np.array(y)"
   ]
  },
  {
   "cell_type": "code",
   "execution_count": 64,
   "metadata": {},
   "outputs": [],
   "source": [
    "n_steps = 4\n",
    "trainval = 13*256 + 1\n",
    "\n",
    "unk,y_recon = split_seq(datanorm, n_steps)\n",
    "y_recon = y_recon[trainval :]"
   ]
  },
  {
   "cell_type": "code",
   "execution_count": 65,
   "metadata": {},
   "outputs": [
    {
     "data": {
      "text/plain": [
       "[<matplotlib.lines.Line2D at 0x6570d4490>]"
      ]
     },
     "execution_count": 65,
     "metadata": {},
     "output_type": "execute_result"
    },
    {
     "data": {
      "image/png": "[encoded data removed]",
      "text/plain": [
       "<Figure size 432x288 with 1 Axes>"
      ]
     },
     "metadata": {
      "needs_background": "light"
     },
     "output_type": "display_data"
    }
   ],
   "source": [
    "data_diff = datanorm-np.roll(datanorm,1)\n",
    "plt.plot(data_diff[0:13])"
   ]
  },
  {
   "cell_type": "code",
   "execution_count": 66,
   "metadata": {},
   "outputs": [],
   "source": [
    "#Training, Testing data split\n",
    "trainX_diff = data_diff[0:trainval]\n",
    "testX_diff = data_diff[trainval:]"
   ]
  },
  {
   "cell_type": "code",
   "execution_count": 67,
   "metadata": {},
   "outputs": [],
   "source": [
    "n_steps = 4\n",
    "n_features = 1\n",
    "\n",
    "#Split into inputs, outputs for training data\n",
    "Xdiff_train, Ydiff_train= split_seq(trainX_diff, n_steps)\n",
    "\n",
    "Xdiff_train = Xdiff_train.reshape(Xdiff_train.shape[0],Xdiff_train.shape[1], n_features)\n",
    "\n",
    "#Split into input and outputs for test data\n",
    "Xdiff_test, Ydiff_test = split_seq(testX_diff, n_steps)\n",
    "\n",
    "Xdiff_test = Xdiff_test.reshape(Xdiff_test.shape[0], Xdiff_test.shape[1], n_features)"
   ]
  },
  {
   "cell_type": "code",
   "execution_count": 69,
   "metadata": {},
   "outputs": [
    {
     "name": "stdout",
     "output_type": "stream",
     "text": [
      "Model: \"sequential_6\"\n",
      "_________________________________________________________________\n",
      "Layer (type)                 Output Shape              Param #   \n",
      "=================================================================\n",
      "conv1d_6 (Conv1D)            (None, 2, 64)             256       \n",
      "_________________________________________________________________\n",
      "average_pooling1d_6 (Average (None, 1, 64)             0         \n",
      "_________________________________________________________________\n",
      "flatten_5 (Flatten)          (None, 64)                0         \n",
      "_________________________________________________________________\n",
      "dense_15 (Dense)             (None, 64)                4160      \n",
      "_________________________________________________________________\n",
      "dense_16 (Dense)             (None, 32)                2080      \n",
      "_________________________________________________________________\n",
      "dense_17 (Dense)             (None, 1)                 33        \n",
      "=================================================================\n",
      "Total params: 6,529\n",
      "Trainable params: 6,529\n",
      "Non-trainable params: 0\n",
      "_________________________________________________________________\n"
     ]
    }
   ],
   "source": [
    "#Define Model\n",
    "model = tf.keras.Sequential()\n",
    "model.add(Conv1D(filters=64, kernel_size=3, activation='relu', input_shape=(n_steps,n_features)))\n",
    "model.add(AveragePooling1D(pool_size=2))\n",
    "model.add(Flatten())\n",
    "# model.add(LSTM(32, activation='tanh', input_shape=(n_steps, n_features), dropout=0.1))\n",
    "model.add(Dense(64, activation='relu'))\n",
    "model.add(Dense(32, activation='tanh'))\n",
    "model.add(Dense(1))\n",
    "model.compile(optimizer=tf.keras.optimizers.Adam(0.001), loss='mse')\n",
    "model.summary()"
   ]
  },
  {
   "cell_type": "code",
   "execution_count": 70,
   "metadata": {},
   "outputs": [
    {
     "name": "stdout",
     "output_type": "stream",
     "text": [
      "Train on 2826 samples, validate on 499 samples\n",
      "Epoch 1/30\n",
      "2826/2826 [==============================] - 2s 538us/sample - loss: 0.4357 - val_loss: 0.4118\n",
      "Epoch 2/30\n",
      "2826/2826 [==============================] - 0s 172us/sample - loss: 0.3770 - val_loss: 0.3833\n",
      "Epoch 3/30\n",
      "2826/2826 [==============================] - 1s 178us/sample - loss: 0.3585 - val_loss: 0.3686\n",
      "Epoch 4/30\n",
      "2826/2826 [==============================] - 1s 177us/sample - loss: 0.3513 - val_loss: 0.3613\n",
      "Epoch 5/30\n",
      "2826/2826 [==============================] - 0s 172us/sample - loss: 0.3474 - val_loss: 0.3582\n",
      "Epoch 6/30\n",
      "2826/2826 [==============================] - 0s 171us/sample - loss: 0.3447 - val_loss: 0.3550\n",
      "Epoch 7/30\n",
      "2826/2826 [==============================] - 1s 179us/sample - loss: 0.3425 - val_loss: 0.3528\n",
      "Epoch 8/30\n",
      "2826/2826 [==============================] - 0s 172us/sample - loss: 0.3407 - val_loss: 0.3509\n",
      "Epoch 9/30\n",
      "2826/2826 [==============================] - 0s 169us/sample - loss: 0.3389 - val_loss: 0.3488\n",
      "Epoch 10/30\n",
      "2826/2826 [==============================] - 0s 165us/sample - loss: 0.3373 - val_loss: 0.3469\n",
      "Epoch 11/30\n",
      "2826/2826 [==============================] - 0s 171us/sample - loss: 0.3363 - val_loss: 0.3464\n",
      "Epoch 12/30\n",
      "2826/2826 [==============================] - 1s 178us/sample - loss: 0.3353 - val_loss: 0.3446\n",
      "Epoch 13/30\n",
      "2826/2826 [==============================] - 0s 169us/sample - loss: 0.3339 - val_loss: 0.3439\n",
      "Epoch 14/30\n",
      "2826/2826 [==============================] - 1s 187us/sample - loss: 0.3325 - val_loss: 0.3426\n",
      "Epoch 15/30\n",
      "2826/2826 [==============================] - 0s 173us/sample - loss: 0.3314 - val_loss: 0.3428\n",
      "Epoch 16/30\n",
      "2826/2826 [==============================] - 0s 174us/sample - loss: 0.3308 - val_loss: 0.3412\n",
      "Epoch 17/30\n",
      "2826/2826 [==============================] - 0s 167us/sample - loss: 0.3295 - val_loss: 0.3415\n",
      "Epoch 18/30\n",
      "2826/2826 [==============================] - 0s 166us/sample - loss: 0.3290 - val_loss: 0.3402\n",
      "Epoch 19/30\n",
      "2826/2826 [==============================] - 0s 166us/sample - loss: 0.3281 - val_loss: 0.3402\n",
      "Epoch 20/30\n",
      "2826/2826 [==============================] - 0s 166us/sample - loss: 0.3270 - val_loss: 0.3392\n",
      "Epoch 21/30\n",
      "2826/2826 [==============================] - 0s 166us/sample - loss: 0.3260 - val_loss: 0.3383\n",
      "Epoch 22/30\n",
      "2826/2826 [==============================] - 0s 166us/sample - loss: 0.3252 - val_loss: 0.3392\n",
      "Epoch 23/30\n",
      "2826/2826 [==============================] - 0s 165us/sample - loss: 0.3247 - val_loss: 0.3380\n",
      "Epoch 24/30\n",
      "2826/2826 [==============================] - 0s 171us/sample - loss: 0.3238 - val_loss: 0.3375\n",
      "Epoch 25/30\n",
      "2826/2826 [==============================] - 1s 180us/sample - loss: 0.3229 - val_loss: 0.3380\n",
      "Epoch 26/30\n",
      "2826/2826 [==============================] - 1s 185us/sample - loss: 0.3225 - val_loss: 0.3368\n",
      "Epoch 27/30\n",
      "2826/2826 [==============================] - 0s 177us/sample - loss: 0.3216 - val_loss: 0.3374\n",
      "Epoch 28/30\n",
      "2826/2826 [==============================] - 1s 182us/sample - loss: 0.3210 - val_loss: 0.3370\n",
      "Epoch 29/30\n",
      "2826/2826 [==============================] - 1s 178us/sample - loss: 0.3204 - val_loss: 0.3374\n",
      "Epoch 30/30\n",
      "2826/2826 [==============================] - 1s 179us/sample - loss: 0.3194 - val_loss: 0.3385\n"
     ]
    }
   ],
   "source": [
    "#Fit model to difference transformed model\n",
    "hist = model.fit(Xdiff_train, Ydiff_train, epochs=30, batch_size=32, validation_split=0.15, verbose=1, shuffle=False)"
   ]
  },
  {
   "cell_type": "code",
   "execution_count": 71,
   "metadata": {},
   "outputs": [
    {
     "data": {
      "text/plain": [
       "[<matplotlib.lines.Line2D at 0x6506c8b10>]"
      ]
     },
     "execution_count": 71,
     "metadata": {},
     "output_type": "execute_result"
    },
    {
     "data": {
      "image/png": "[encoded data removed]",
      "text/plain": [
       "<Figure size 432x288 with 1 Axes>"
      ]
     },
     "metadata": {
      "needs_background": "light"
     },
     "output_type": "display_data"
    }
   ],
   "source": [
    "plt.plot(hist.history['loss'], label='train')\n",
    "plt.plot(hist.history['val_loss'], label='Cross validation')"
   ]
  },
  {
   "cell_type": "code",
   "execution_count": 72,
   "metadata": {},
   "outputs": [],
   "source": [
    "#Predicting difference transformed data using NN model\n",
    "yhat_difftest = model.predict(Xdiff_test, verbose=0)"
   ]
  },
  {
   "cell_type": "code",
   "execution_count": 73,
   "metadata": {},
   "outputs": [],
   "source": [
    "ypred = (yhat_difftest + y_recon)*sigma +mu\n",
    "yact = (Ydiff_test + y_recon)*sigma +mu"
   ]
  },
  {
   "cell_type": "code",
   "execution_count": 74,
   "metadata": {},
   "outputs": [
    {
     "name": "stdout",
     "output_type": "stream",
     "text": [
      "RMSE is [182.98055231]\n"
     ]
    }
   ],
   "source": [
    "RMSE = np.sqrt(sum((ypred-yact)**2)/len(ypred))\n",
    "print(f\"RMSE is {RMSE}\", )"
   ]
  },
  {
   "cell_type": "code",
   "execution_count": null,
   "metadata": {},
   "outputs": [],
   "source": []
  }
 ],
 "metadata": {
  "kernelspec": {
   "display_name": "Python 3.7 (tensorflow)",
   "language": "python",
   "name": "tensorflow"
  },
  "language_info": {
   "codemirror_mode": {
    "name": "ipython",
    "version": 3
   },
   "file_extension": ".py",
   "mimetype": "text/x-python",
   "name": "python",
   "nbconvert_exporter": "python",
   "pygments_lexer": "ipython3",
   "version": "3.7.7"
  }
 },
 "nbformat": 4,
 "nbformat_minor": 4
}
