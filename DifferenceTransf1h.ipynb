{
 "cells": [
  {
   "cell_type": "code",
   "execution_count": 1,
   "metadata": {},
   "outputs": [],
   "source": [
    "import pandas as pd\n",
    "import numpy as np\n",
    "import matplotlib.pyplot as plt\n",
    "from numpy import savetxt\n",
    "from scipy.ndimage.interpolation import shift\n",
    "\n",
    "import tensorflow as tf\n",
    "from tensorflow.keras.models import Sequential\n",
    "from tensorflow.keras.layers import Dense, Flatten, Conv1D, AveragePooling1D, SimpleRNN, LSTM"
   ]
  },
  {
   "cell_type": "code",
   "execution_count": 2,
   "metadata": {},
   "outputs": [
    {
     "name": "stdout",
     "output_type": "stream",
     "text": [
      "   irradiance\n",
      "0       0.000\n",
      "1      90.475\n",
      "2     183.280\n",
      "3     435.890\n",
      "4     594.660\n"
     ]
    }
   ],
   "source": [
    "#Loading data from PC- data:full original vector of solar irradiance \n",
    "data = pd.read_csv(\"solar_1h.csv\", names=['irradiance'])\n",
    "print(data.head())"
   ]
  },
  {
   "cell_type": "code",
   "execution_count": 3,
   "metadata": {},
   "outputs": [
    {
     "name": "stdout",
     "output_type": "stream",
     "text": [
      "Shape of data is  (4758, 1)\n"
     ]
    }
   ],
   "source": [
    "data = data.values\n",
    "print(\"Shape of data is \", data.shape)"
   ]
  },
  {
   "cell_type": "code",
   "execution_count": 4,
   "metadata": {},
   "outputs": [],
   "source": [
    "sigma = np.std(data)\n",
    "mu = np.mean(data)\n",
    "datanorm = (data-mu)/sigma"
   ]
  },
  {
   "cell_type": "code",
   "execution_count": 5,
   "metadata": {},
   "outputs": [
    {
     "name": "stdout",
     "output_type": "stream",
     "text": [
      "The shape of datamat is  (366, 13)\n"
     ]
    },
    {
     "data": {
      "image/png": "[encoded data removed]",
      "text/plain": [
       "<Figure size 432x288 with 1 Axes>"
      ]
     },
     "metadata": {
      "needs_background": "light"
     },
     "output_type": "display_data"
    }
   ],
   "source": [
    "#Random shuffling to matrix across rows\n",
    "datamat = data.reshape(366,-1)\n",
    "print(\"The shape of datamat is \", datamat.shape)\n",
    "datamat_norm = datanorm.reshape(366,-1)\n",
    "plt.plot(datamat_norm[0])\n",
    "datanorm = datamat_norm.reshape(-1,1)"
   ]
  },
  {
   "cell_type": "code",
   "execution_count": 6,
   "metadata": {},
   "outputs": [],
   "source": [
    "#Function to Split into input ouput sets\n",
    "def split_seq(seq, n_steps):\n",
    "    X, y = list(), list()\n",
    "    for i in range(len(seq)):\n",
    "    \n",
    "        #Find end of seq\n",
    "        end_ix = i+n_steps\n",
    "        #Check if sequence passed\n",
    "        if end_ix>len(seq)-1:\n",
    "            break\n",
    "\n",
    "        #Gather input and ouputs\n",
    "        seq_x, seq_y = seq[i:end_ix], seq[end_ix]\n",
    "        X.append(seq_x)\n",
    "        y.append(seq_y)\n",
    "    return np.array(X), np.array(y)"
   ]
  },
  {
   "cell_type": "code",
   "execution_count": 7,
   "metadata": {},
   "outputs": [],
   "source": [
    "n_steps = 4\n",
    "trainval = 13*256 - 5\n",
    "\n",
    "unk,y_recon = split_seq(datanorm, n_steps)\n",
    "y_recon = y_recon[trainval :-1]"
   ]
  },
  {
   "cell_type": "code",
   "execution_count": 8,
   "metadata": {},
   "outputs": [
    {
     "data": {
      "text/plain": [
       "[<matplotlib.lines.Line2D at 0x645ad1e50>]"
      ]
     },
     "execution_count": 8,
     "metadata": {},
     "output_type": "execute_result"
    },
    {
     "data": {
      "image/png": "[encoded data removed]",
      "text/plain": [
       "<Figure size 432x288 with 1 Axes>"
      ]
     },
     "metadata": {
      "needs_background": "light"
     },
     "output_type": "display_data"
    }
   ],
   "source": [
    "data_diff = datanorm-np.roll(datanorm,1)\n",
    "plt.plot(data_diff[0:13])"
   ]
  },
  {
   "cell_type": "code",
   "execution_count": 9,
   "metadata": {},
   "outputs": [],
   "source": [
    "#Training, Testing data split\n",
    "trainval = 13*256 - 4\n",
    "trainX_diff = data_diff[0:trainval]\n",
    "testX_diff = data_diff[trainval:]"
   ]
  },
  {
   "cell_type": "code",
   "execution_count": 10,
   "metadata": {},
   "outputs": [],
   "source": [
    "n_steps = 4\n",
    "n_features = 1\n",
    "\n",
    "#Split into inputs, outputs for training data\n",
    "Xdiff_train, Ydiff_train= split_seq(trainX_diff, n_steps)\n",
    "\n",
    "Xdiff_train = Xdiff_train.reshape(Xdiff_train.shape[0],Xdiff_train.shape[1], n_features)\n",
    "\n",
    "#Split into input and outputs for test data\n",
    "Xdiff_test, Ydiff_test = split_seq(testX_diff, n_steps)\n",
    "\n",
    "Xdiff_test = Xdiff_test.reshape(Xdiff_test.shape[0], Xdiff_test.shape[1], n_features)"
   ]
  },
  {
   "cell_type": "code",
   "execution_count": 11,
   "metadata": {},
   "outputs": [
    {
     "name": "stdout",
     "output_type": "stream",
     "text": [
      "Model: \"sequential\"\n",
      "_________________________________________________________________\n",
      "Layer (type)                 Output Shape              Param #   \n",
      "=================================================================\n",
      "conv1d (Conv1D)              (None, 2, 64)             256       \n",
      "_________________________________________________________________\n",
      "average_pooling1d (AveragePo (None, 1, 64)             0         \n",
      "_________________________________________________________________\n",
      "flatten (Flatten)            (None, 64)                0         \n",
      "_________________________________________________________________\n",
      "dense (Dense)                (None, 64)                4160      \n",
      "_________________________________________________________________\n",
      "dense_1 (Dense)              (None, 32)                2080      \n",
      "_________________________________________________________________\n",
      "dense_2 (Dense)              (None, 1)                 33        \n",
      "=================================================================\n",
      "Total params: 6,529\n",
      "Trainable params: 6,529\n",
      "Non-trainable params: 0\n",
      "_________________________________________________________________\n"
     ]
    }
   ],
   "source": [
    "#Define Model\n",
    "model = tf.keras.Sequential()\n",
    "model.add(Conv1D(filters=64, kernel_size=3, activation='relu', input_shape=(n_steps,n_features)))\n",
    "model.add(AveragePooling1D(pool_size=2))\n",
    "model.add(Flatten())\n",
    "# model.add(LSTM(32, activation='tanh', input_shape=(n_steps, n_features), dropout=0.1))\n",
    "model.add(Dense(64, activation='relu'))\n",
    "model.add(Dense(32, activation='tanh'))\n",
    "model.add(Dense(1))\n",
    "model.compile(optimizer=tf.keras.optimizers.Adam(0.001), loss='mse')\n",
    "model.summary()"
   ]
  },
  {
   "cell_type": "code",
   "execution_count": null,
   "metadata": {},
   "outputs": [
    {
     "name": "stdout",
     "output_type": "stream",
     "text": [
      "Train on 2822 samples, validate on 498 samples\n",
      "Epoch 1/30\n",
      "2822/2822 [==============================] - 2s 593us/sample - loss: 0.4390 - val_loss: 0.4201\n",
      "Epoch 2/30\n",
      "2822/2822 [==============================] - 0s 176us/sample - loss: 0.3872 - val_loss: 0.3871\n",
      "Epoch 3/30\n",
      "2822/2822 [==============================] - 0s 170us/sample - loss: 0.3623 - val_loss: 0.3748\n",
      "Epoch 4/30\n",
      "2822/2822 [==============================] - 0s 169us/sample - loss: 0.3528 - val_loss: 0.3693\n",
      "Epoch 5/30\n",
      "2822/2822 [==============================] - 0s 170us/sample - loss: 0.3482 - val_loss: 0.3646\n",
      "Epoch 6/30\n",
      "2822/2822 [==============================] - 0s 170us/sample - loss: 0.3449 - val_loss: 0.3608\n",
      "Epoch 7/30\n",
      "2822/2822 [==============================] - 0s 172us/sample - loss: 0.3426 - val_loss: 0.3595\n",
      "Epoch 8/30\n",
      "2822/2822 [==============================] - 0s 169us/sample - loss: 0.3405 - val_loss: 0.3556\n",
      "Epoch 9/30\n",
      "2822/2822 [==============================] - 0s 170us/sample - loss: 0.3382 - val_loss: 0.3534\n",
      "Epoch 10/30\n",
      "2822/2822 [==============================] - 0s 170us/sample - loss: 0.3371 - val_loss: 0.3523\n",
      "Epoch 11/30\n",
      "2822/2822 [==============================] - 0s 170us/sample - loss: 0.3352 - val_loss: 0.3507\n",
      "Epoch 12/30\n",
      "2822/2822 [==============================] - 0s 170us/sample - loss: 0.3342 - val_loss: 0.3492\n",
      "Epoch 13/30\n",
      "2822/2822 [==============================] - 0s 171us/sample - loss: 0.3328 - val_loss: 0.3477\n",
      "Epoch 14/30\n",
      "2822/2822 [==============================] - 0s 170us/sample - loss: 0.3319 - val_loss: 0.3464\n",
      "Epoch 15/30\n",
      "2822/2822 [==============================] - 0s 175us/sample - loss: 0.3307 - val_loss: 0.3457\n",
      "Epoch 16/30\n",
      "2822/2822 [==============================] - 1s 180us/sample - loss: 0.3299 - val_loss: 0.3448\n",
      "Epoch 17/30\n",
      "2822/2822 [==============================] - 0s 169us/sample - loss: 0.3287 - val_loss: 0.3433\n",
      "Epoch 18/30\n",
      "2822/2822 [==============================] - 0s 171us/sample - loss: 0.3280 - val_loss: 0.3436\n",
      "Epoch 19/30\n",
      "2822/2822 [==============================] - 1s 180us/sample - loss: 0.3271 - val_loss: 0.3422\n",
      "Epoch 20/30\n",
      "2822/2822 [==============================] - 0s 176us/sample - loss: 0.3263 - val_loss: 0.3419\n",
      "Epoch 21/30\n",
      "2822/2822 [==============================] - 1s 179us/sample - loss: 0.3253 - val_loss: 0.3419\n",
      "Epoch 22/30\n",
      "2822/2822 [==============================] - 0s 174us/sample - loss: 0.3244 - val_loss: 0.3415\n",
      "Epoch 23/30\n",
      "2822/2822 [==============================] - 1s 194us/sample - loss: 0.3236 - val_loss: 0.3399\n",
      "Epoch 24/30\n",
      "2822/2822 [==============================] - 1s 179us/sample - loss: 0.3231 - val_loss: 0.3394\n",
      "Epoch 25/30\n",
      "2822/2822 [==============================] - 1s 204us/sample - loss: 0.3223 - val_loss: 0.3389\n",
      "Epoch 26/30\n",
      "2822/2822 [==============================] - 0s 176us/sample - loss: 0.3216 - val_loss: 0.3389\n",
      "Epoch 27/30\n",
      "2822/2822 [==============================] - 0s 173us/sample - loss: 0.3209 - val_loss: 0.3389\n",
      "Epoch 28/30\n",
      "2822/2822 [==============================] - 0s 172us/sample - loss: 0.3204 - val_loss: 0.3388\n",
      "Epoch 29/30\n",
      "2822/2822 [==============================] - 0s 174us/sample - loss: 0.3198 - val_loss: 0.3372\n",
      "Epoch 30/30\n",
      "  32/2822 [..............................] - ETA: 0s - loss: 0.2173"
     ]
    }
   ],
   "source": [
    "#Fit model to difference transformed model\n",
    "hist = model.fit(Xdiff_train, Ydiff_train, epochs=30, batch_size=32, validation_split=0.15, verbose=1, shuffle=False)"
   ]
  },
  {
   "cell_type": "code",
   "execution_count": 17,
   "metadata": {},
   "outputs": [
    {
     "data": {
      "text/plain": [
       "[<matplotlib.lines.Line2D at 0x6473841d0>]"
      ]
     },
     "execution_count": 17,
     "metadata": {},
     "output_type": "execute_result"
    },
    {
     "data": {
      "image/png": "[encoded data removed]",
      "text/plain": [
       "<Figure size 432x288 with 1 Axes>"
      ]
     },
     "metadata": {
      "needs_background": "light"
     },
     "output_type": "display_data"
    }
   ],
   "source": [
    "plt.plot(hist.history['loss'], label='train')\n",
    "plt.plot(hist.history['val_loss'], label='Cross validation')"
   ]
  },
  {
   "cell_type": "code",
   "execution_count": 18,
   "metadata": {},
   "outputs": [],
   "source": [
    "#Predicting difference transformed data using NN model\n",
    "yhat_difftest = model.predict(Xdiff_test, verbose=0)"
   ]
  },
  {
   "cell_type": "code",
   "execution_count": 21,
   "metadata": {},
   "outputs": [
    {
     "name": "stdout",
     "output_type": "stream",
     "text": [
      "Shape of Ydiff_test is  (1430, 1)\n",
      "Shape of y_recon is  (1430, 1)\n"
     ]
    }
   ],
   "source": [
    "print(\"Shape of Ydiff_test is \", Ydiff_test.shape)\n",
    "print(\"Shape of y_recon is \", y_recon.shape)"
   ]
  },
  {
   "cell_type": "code",
   "execution_count": 22,
   "metadata": {},
   "outputs": [],
   "source": [
    "ypred = (yhat_difftest + y_recon)*sigma +mu\n",
    "yact = (Ydiff_test + y_recon)*sigma +mu"
   ]
  },
  {
   "cell_type": "code",
   "execution_count": 23,
   "metadata": {},
   "outputs": [
    {
     "name": "stdout",
     "output_type": "stream",
     "text": [
      "RMSE is [183.39090164]\n",
      "RMSE of prediction is [0.59123813]\n"
     ]
    }
   ],
   "source": [
    "RMSE = np.sqrt(sum((ypred-yact)**2)/len(ypred))\n",
    "print(\"RMSE is\",RMSE )\n",
    "RMSEpred = np.sqrt(sum((yhat_difftest-Ydiff_test)**2)/len(Ydiff_test))\n",
    "print(\"RMSE of prediction is\", RMSEpred)"
   ]
  },
  {
   "cell_type": "code",
   "execution_count": 24,
   "metadata": {},
   "outputs": [
    {
     "data": {
      "text/plain": [
       "[<matplotlib.lines.Line2D at 0x6473cf650>]"
      ]
     },
     "execution_count": 24,
     "metadata": {},
     "output_type": "execute_result"
    },
    {
     "data": {
      "image/png": "[encoded data removed]",
      "text/plain": [
       "<Figure size 432x288 with 1 Axes>"
      ]
     },
     "metadata": {
      "needs_background": "light"
     },
     "output_type": "display_data"
    }
   ],
   "source": [
    "plt.plot(yact[0:26], label='observed')\n",
    "plt.plot(ypred[0:26], label='prediction')\n",
    "plt.legend(loc='upper right')"
   ]
  },
  {
   "cell_type": "code",
   "execution_count": null,
   "metadata": {},
   "outputs": [],
   "source": [
    "#Make DataFrame\n",
    "yout = np.hstack((yact, ypred))\n",
    "yout = pd.DataFrame(list(yout), columns=['Observed','Predicted'])\n",
    "yout.head()"
   ]
  },
  {
   "cell_type": "code",
   "execution_count": null,
   "metadata": {},
   "outputs": [],
   "source": [
    "#Save DataFrame to csv\n",
    "yout.to_csv('CNN_1h.csv', index=False)"
   ]
  }
 ],
 "metadata": {
  "kernelspec": {
   "display_name": "Python 3.7 (tensorflow)",
   "language": "python",
   "name": "tensorflow"
  },
  "language_info": {
   "codemirror_mode": {
    "name": "ipython",
    "version": 3
   },
   "file_extension": ".py",
   "mimetype": "text/x-python",
   "name": "python",
   "nbconvert_exporter": "python",
   "pygments_lexer": "ipython3",
   "version": "3.7.7"
  }
 },
 "nbformat": 4,
 "nbformat_minor": 4
}
