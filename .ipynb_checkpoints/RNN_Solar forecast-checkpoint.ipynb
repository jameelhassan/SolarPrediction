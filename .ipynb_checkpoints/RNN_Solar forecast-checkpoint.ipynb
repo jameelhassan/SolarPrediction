{
 "cells": [
  {
   "cell_type": "code",
   "execution_count": 3,
   "metadata": {},
   "outputs": [],
   "source": [
    "import pandas as pd\n",
    "import numpy as np\n",
    "from numpy import array\n",
    "from numpy import savetxt\n",
    "import tensorflow as tf\n",
    "from tensorflow.keras.models import Sequential\n",
    "from tensorflow.keras.layers import Dense, SimpleRNN, Dropout, LSTM, Conv1D\n",
    "from tensorflow.keras.layers import Flatten\n",
    "import matplotlib.pyplot as plt"
   ]
  },
  {
   "cell_type": "code",
   "execution_count": 4,
   "metadata": {},
   "outputs": [
    {
     "name": "stdout",
     "output_type": "stream",
     "text": [
      "   irradiance\n",
      "0        0.00\n",
      "1        0.00\n",
      "2        0.00\n",
      "3        3.76\n",
      "4       21.72\n"
     ]
    }
   ],
   "source": [
    "#Loading data from PC \n",
    "col_list = [\"Actual Irr\"]\n",
    "data = pd.read_csv(\"PDNsolar.csv\", usecols=col_list)\n",
    "data = data.rename(columns={\"Actual Irr\" : \"irradiance\" }) #Change Column title\n",
    "print(data.head())"
   ]
  },
  {
   "cell_type": "code",
   "execution_count": 6,
   "metadata": {},
   "outputs": [],
   "source": [
    "#Assign data to numpy array\n",
    "datamat = data['irradiance'].to_numpy()\n",
    "datamat = datamat.reshape(len(datamat),1)"
   ]
  },
  {
   "cell_type": "code",
   "execution_count": 7,
   "metadata": {},
   "outputs": [],
   "source": [
    "#Normalise data\n",
    "mu = np.mean(datamat)\n",
    "sigma = np.std(datamat)\n",
    "datanorm = (datamat-mu)/sigma"
   ]
  },
  {
   "cell_type": "code",
   "execution_count": 8,
   "metadata": {},
   "outputs": [],
   "source": [
    "#Train and test set split\n",
    "trainval = int(np.floor(0.75*len(datanorm)))\n",
    "train_data = datanorm[0:trainval]\n",
    "test_data = datanorm[trainval:]"
   ]
  },
  {
   "cell_type": "code",
   "execution_count": 9,
   "metadata": {},
   "outputs": [],
   "source": [
    "#Split into input ouput sets\n",
    "def split_seq(seq, n_steps):\n",
    "    X, y = list(), list()\n",
    "    for i in range(len(seq)):\n",
    "    \n",
    "        #Find end of seq\n",
    "        end_ix = i+n_steps\n",
    "        #Check if sequence passed\n",
    "        if end_ix>len(seq)-1:\n",
    "            break\n",
    "\n",
    "        #Gather input and ouputs\n",
    "        seq_x, seq_y = seq[i:end_ix], seq[end_ix]\n",
    "        X.append(seq_x)\n",
    "        y.append(seq_y)\n",
    "    return array(X), array(y)\n"
   ]
  },
  {
   "cell_type": "code",
   "execution_count": 10,
   "metadata": {},
   "outputs": [],
   "source": [
    "#No. of steps\n",
    "n_steps = 3\n",
    "\n",
    "#Split into inputs, outputs for training data\n",
    "Xtrain, Ytrain = split_seq(train_data, n_steps)\n",
    "\n",
    "n_features = 1\n",
    "Xtrain = Xtrain.reshape(Xtrain.shape[0],Xtrain.shape[1], n_features)\n",
    "\n",
    "#Split into input and outputs for test data\n",
    "Xtest, Ytest = split_seq(test_data, n_steps)\n",
    "\n",
    "Xtest = Xtest.reshape(Xtest.shape[0], Xtest.shape[1], n_features)"
   ]
  },
  {
   "cell_type": "code",
   "execution_count": 11,
   "metadata": {},
   "outputs": [
    {
     "name": "stdout",
     "output_type": "stream",
     "text": [
      "Model: \"sequential\"\n",
      "_________________________________________________________________\n",
      "Layer (type)                 Output Shape              Param #   \n",
      "=================================================================\n",
      "lstm (LSTM)                  (None, 64)                16896     \n",
      "_________________________________________________________________\n",
      "dense (Dense)                (None, 128)               8320      \n",
      "_________________________________________________________________\n",
      "dense_1 (Dense)              (None, 64)                8256      \n",
      "_________________________________________________________________\n",
      "dense_2 (Dense)              (None, 1)                 65        \n",
      "=================================================================\n",
      "Total params: 33,537\n",
      "Trainable params: 33,537\n",
      "Non-trainable params: 0\n",
      "_________________________________________________________________\n"
     ]
    }
   ],
   "source": [
    "#Define Model\n",
    "model = tf.keras.Sequential()\n",
    "model.add(LSTM(64, input_shape=(n_steps, n_features), activation='relu'))\n",
    "model.add(Dense(128,activation='relu'))\n",
    "model.add(Dense(64, activation='relu'))\n",
    "model.add(Dense(1))\n",
    "model.compile(optimizer='adam', loss='mse')\n",
    "model.summary()"
   ]
  },
  {
   "cell_type": "code",
   "execution_count": null,
   "metadata": {},
   "outputs": [],
   "source": [
    "#Fit model\n",
    "hist = model.fit(Xtrain, Ytrain, epochs=75, batch_size=64, validation_split=0.15, verbose=0, shuffle='false')"
   ]
  },
  {
   "cell_type": "code",
   "execution_count": 42,
   "metadata": {},
   "outputs": [],
   "source": [
    "#Preparing Entire dataset for the network\n",
    "X, Y = split_seq(datanorm, n_steps)"
   ]
  },
  {
   "cell_type": "code",
   "execution_count": 43,
   "metadata": {},
   "outputs": [],
   "source": [
    "#Predict using model\n",
    "yhat_test = model.predict(Xtest, verbose=0)\n",
    "yhat = model.predict(X, verbose=0)"
   ]
  },
  {
   "cell_type": "code",
   "execution_count": 44,
   "metadata": {},
   "outputs": [],
   "source": [
    "#Regain actual data val\n",
    "ypred_test = yhat_test*sigma + mu\n",
    "ypred = yhat*sigma + mu\n",
    "Ytest = Ytest*sigma + mu\n",
    "Y = Y*sigma + mu"
   ]
  },
  {
   "cell_type": "code",
   "execution_count": 45,
   "metadata": {},
   "outputs": [],
   "source": [
    "#Stack predicted and actual irradiance\n",
    "Yout_test = np.hstack((Ytest, ypred_test)) #Test data only\n",
    "Yout = np.hstack((Y, ypred)) #All data"
   ]
  },
  {
   "cell_type": "code",
   "execution_count": 46,
   "metadata": {},
   "outputs": [
    {
     "name": "stdout",
     "output_type": "stream",
     "text": [
      "The test set RMSE is 106.53174012839251\n",
      "The entire set RMSE is 114.35633288954797\n"
     ]
    }
   ],
   "source": [
    "RMSE = np.sqrt(np.sum((Ytest-ypred_test)**2)/len(Ytest))\n",
    "RMSEall = np.sqrt(np.sum((Y-ypred)**2)/len(Y))\n",
    "print(f\"The test set RMSE is {RMSE}\")\n",
    "print(f\"The entire set RMSE is {RMSEall}\")"
   ]
  },
  {
   "cell_type": "code",
   "execution_count": null,
   "metadata": {},
   "outputs": [],
   "source": [
    "#Save file to csv\n",
    "savetxt('LSTM_yout_test128_64.csv', Yout_test, delimiter=',')\n",
    "savetxt('LSTM_yout128_64.csv', Yout, delimiter=',')"
   ]
  }
 ],
 "metadata": {
  "kernelspec": {
   "display_name": "Python 3.7 (tensorflow)",
   "language": "python",
   "name": "tensorflow"
  },
  "language_info": {
   "codemirror_mode": {
    "name": "ipython",
    "version": 3
   },
   "file_extension": ".py",
   "mimetype": "text/x-python",
   "name": "python",
   "nbconvert_exporter": "python",
   "pygments_lexer": "ipython3",
   "version": "3.7.7"
  }
 },
 "nbformat": 4,
 "nbformat_minor": 4
}
